{
 "cells": [
  {
   "cell_type": "code",
   "execution_count": null,
   "metadata": {},
   "outputs": [],
   "source": [
    "import json\n",
    "import numpy as np\n",
    "\n",
    "def generate_jobs(num_jobs, output_file):\n",
    "    jobs = []\n",
    "\n",
    "    # Poisson distribution parameter (average interval between arrivals)\n",
    "    lambda_poisson = 1.0\n",
    "\n",
    "    # Initialize time for Poisson arrivals\n",
    "    current_time = 0\n",
    "\n",
    "    for job_id in range(num_jobs):\n",
    "        # Simulate arriving time with Poisson distribution\n",
    "        arriving_interval = np.random.poisson(lambda_poisson)\n",
    "        current_time += arriving_interval\n",
    "\n",
    "        # Generate random job attributes\n",
    "        nb_tasks = np.random.randint(1, 6)  # Random number of tasks between 1 and 5\n",
    "        time = np.random.uniform(0.1, 2)  # Random time between 0.1 and 1.0\n",
    "        dataset_size = np.random.randint(2000, 10000)  # Random dataset size between 1000 and 10000\n",
    "        id_dataset = job_id  # Using job_id as id_dataset for simplicity\n",
    "\n",
    "        # Create job entry\n",
    "        job = {\n",
    "            \"job_id\": job_id,\n",
    "            \"nb_tasks\": nb_tasks,\n",
    "            \"time\": time,\n",
    "            \"dataset_size\": dataset_size,\n",
    "            \"id_dataset\": id_dataset,\n",
    "            \"arriving_time\": current_time\n",
    "        }\n",
    "\n",
    "        jobs.append(job)\n",
    "\n",
    "    # Write jobs to a JSON file\n",
    "    with open(output_file, \"w\") as file:\n",
    "        json.dump(jobs, file, indent=4)\n",
    "\n",
    "# Generate 1000 jobs and save to \"jobs.json\"\n",
    "generate_jobs(1000, \"jobs.json\")\n"
   ]
  },
  {
   "cell_type": "code",
   "execution_count": 6,
   "metadata": {},
   "outputs": [
    {
     "name": "stdout",
     "output_type": "stream",
     "text": [
      "    job_id  nb_tasks      time  dataset_size  id_dataset  arriving_time\n",
      "0        0         2  1.715743          7236           0              0\n",
      "1        1         5  1.410851          3676           1              0\n",
      "2        2         5  1.544473          3302           2              1\n",
      "3        3         1  1.225282          5915           3              3\n",
      "4        4         4  1.305024          9027           4              4\n",
      "5        5         4  1.154153          5930           5              6\n",
      "6        6         5  0.643371          4130           6              8\n",
      "7        7         5  1.127477          7585           7              9\n",
      "8        8         3  1.379765          7304           8             10\n",
      "9        9         4  0.898409          5494           9             11\n",
      "10      10         5  0.278324          7883          10             12\n",
      "11      11         4  0.187096          8874          11             12\n",
      "12      12         2  0.724108          9952          12             13\n",
      "13      13         3  0.781936          3482          13             15\n",
      "14      14         3  0.480156          8879          14             15\n",
      "15      15         5  1.094692          9617          15             16\n",
      "16      16         3  0.450428          6771          16             16\n",
      "17      17         3  1.348699          7566          17             16\n",
      "18      18         5  0.992702          6387          18             16\n",
      "19      19         3  1.954057          7117          19             16\n"
     ]
    }
   ],
   "source": [
    "df = pd.read_json(\"./jobs.json\")\n",
    "print(df.head(20))"
   ]
  },
  {
   "cell_type": "code",
   "execution_count": null,
   "metadata": {},
   "outputs": [
    {
     "name": "stdout",
     "output_type": "stream",
     "text": [
      "   job_id  nb_tasks      time  dataset_size  id_dataset  arriving_time\n",
      "0       0         2  1.715743          7236           0              0\n",
      "1       1         5  1.410851          3676           1              0\n",
      "2       2         5  1.544473          3302           2              1\n",
      "3       3         1  1.225282          5915           3              3\n",
      "4       4         4  1.305024          9027           4              4\n"
     ]
    },
    {
     "data": {
      "text/html": [
       "<div>\n",
       "<style scoped>\n",
       "    .dataframe tbody tr th:only-of-type {\n",
       "        vertical-align: middle;\n",
       "    }\n",
       "\n",
       "    .dataframe tbody tr th {\n",
       "        vertical-align: top;\n",
       "    }\n",
       "\n",
       "    .dataframe thead th {\n",
       "        text-align: right;\n",
       "    }\n",
       "</style>\n",
       "<table border=\"1\" class=\"dataframe\">\n",
       "  <thead>\n",
       "    <tr style=\"text-align: right;\">\n",
       "      <th></th>\n",
       "      <th>job_id</th>\n",
       "      <th>nb_tasks</th>\n",
       "      <th>time</th>\n",
       "      <th>dataset_size</th>\n",
       "      <th>id_dataset</th>\n",
       "      <th>arriving_time</th>\n",
       "    </tr>\n",
       "  </thead>\n",
       "  <tbody>\n",
       "    <tr>\n",
       "      <th>5</th>\n",
       "      <td>5</td>\n",
       "      <td>4</td>\n",
       "      <td>1.154153</td>\n",
       "      <td>5930</td>\n",
       "      <td>5</td>\n",
       "      <td>6</td>\n",
       "    </tr>\n",
       "  </tbody>\n",
       "</table>\n",
       "</div>"
      ],
      "text/plain": [
       "   job_id  nb_tasks      time  dataset_size  id_dataset  arriving_time\n",
       "5       5         4  1.154153          5930           5              6"
      ]
     },
     "execution_count": 3,
     "metadata": {},
     "output_type": "execute_result"
    }
   ],
   "source": [
    "import pandas as pd\n",
    "\n",
    "\n",
    "jobs = df[df[\"arriving_time\"] == 6]\n",
    "jobs"
   ]
  },
  {
   "cell_type": "code",
   "execution_count": 32,
   "metadata": {},
   "outputs": [
    {
     "name": "stdout",
     "output_type": "stream",
     "text": [
      "Number of jobs with arriving_time == 6: 3\n"
     ]
    }
   ],
   "source": [
    "count = df[df[\"arriving_time\"] == 6].shape[0]\n",
    "print(f\"Number of jobs with arriving_time == 6: {count}\")\n"
   ]
  },
  {
   "cell_type": "code",
   "execution_count": 33,
   "metadata": {},
   "outputs": [
    {
     "name": "stdout",
     "output_type": "stream",
     "text": [
      "job 0.0 arriving at 2 added at time 2.0\n",
      "job 1.0 arriving at 3 added at time 3.0\n",
      "job 2.0 arriving at 4 added at time 4.0\n",
      "job 3.0 arriving at 5 added at time 5.0\n",
      "job 4.0 arriving at 6 added at time 6.0\n",
      "job 5.0 arriving at 6 added at time 6.0\n",
      "job 6.0 arriving at 6 added at time 6.0\n",
      "job 7.0 arriving at 8 added at time 8.0\n",
      "job 8.0 arriving at 9 added at time 9.0\n",
      "job 9.0 arriving at 9 added at time 9.0\n",
      "job 10.0 arriving at 10 added at time 10.0\n",
      "job 11.0 arriving at 12 added at time 12.0\n",
      "job 12.0 arriving at 14 added at time 14.0\n",
      "job 13.0 arriving at 15 added at time 15.0\n",
      "job 14.0 arriving at 15 added at time 15.0\n",
      "job 15.0 arriving at 15 added at time 15.0\n",
      "job 16.0 arriving at 16 added at time 16.0\n",
      "job 17.0 arriving at 16 added at time 16.0\n",
      "job 18.0 arriving at 16 added at time 16.0\n",
      "job 19.0 arriving at 16 added at time 16.0\n",
      "job 20.0 arriving at 16 added at time 16.0\n",
      "job 21.0 arriving at 17 added at time 17.0\n",
      "job 22.0 arriving at 19 added at time 19.0\n",
      "job 23.0 arriving at 20 added at time 20.0\n",
      "job 24.0 arriving at 21 added at time 21.0\n",
      "job 25.0 arriving at 25 added at time 25.0\n",
      "job 26.0 arriving at 26 added at time 26.0\n",
      "job 27.0 arriving at 28 added at time 28.0\n",
      "job 28.0 arriving at 30 added at time 30.0\n",
      "job 29.0 arriving at 30 added at time 30.0\n",
      "job 30.0 arriving at 35 added at time 35.0\n",
      "job 31.0 arriving at 35 added at time 35.0\n",
      "job 32.0 arriving at 37 added at time 37.0\n",
      "job 33.0 arriving at 38 added at time 38.0\n",
      "job 34.0 arriving at 39 added at time 39.0\n",
      "job 35.0 arriving at 40 added at time 40.0\n",
      "job 36.0 arriving at 41 added at time 41.0\n",
      "job 37.0 arriving at 41 added at time 41.0\n",
      "job 38.0 arriving at 41 added at time 41.0\n",
      "job 39.0 arriving at 43 added at time 43.0\n",
      "job 40.0 arriving at 44 added at time 44.0\n",
      "job 41.0 arriving at 46 added at time 46.0\n",
      "job 42.0 arriving at 47 added at time 47.0\n",
      "job 43.0 arriving at 47 added at time 47.0\n",
      "job 44.0 arriving at 48 added at time 48.0\n",
      "job 45.0 arriving at 49 added at time 49.0\n",
      "job 46.0 arriving at 50 added at time 50.0\n",
      "job 47.0 arriving at 51 added at time 51.0\n",
      "job 48.0 arriving at 52 added at time 52.0\n",
      "job 49.0 arriving at 53 added at time 53.0\n",
      "job 50.0 arriving at 55 added at time 55.0\n",
      "job 51.0 arriving at 55 added at time 55.0\n",
      "job 52.0 arriving at 55 added at time 55.0\n",
      "job 53.0 arriving at 56 added at time 56.0\n",
      "job 54.0 arriving at 56 added at time 56.0\n",
      "job 55.0 arriving at 57 added at time 57.0\n",
      "job 56.0 arriving at 58 added at time 58.0\n",
      "job 57.0 arriving at 58 added at time 58.0\n",
      "job 58.0 arriving at 60 added at time 60.0\n",
      "job 59.0 arriving at 60 added at time 60.0\n",
      "job 60.0 arriving at 62 added at time 62.0\n",
      "job 61.0 arriving at 63 added at time 63.0\n",
      "job 62.0 arriving at 65 added at time 65.0\n",
      "job 63.0 arriving at 66 added at time 66.0\n",
      "job 64.0 arriving at 67 added at time 67.0\n",
      "job 65.0 arriving at 68 added at time 68.0\n",
      "job 66.0 arriving at 69 added at time 69.0\n",
      "job 67.0 arriving at 69 added at time 69.0\n",
      "job 68.0 arriving at 72 added at time 72.0\n",
      "job 69.0 arriving at 75 added at time 75.0\n",
      "job 70.0 arriving at 75 added at time 75.0\n",
      "job 71.0 arriving at 75 added at time 75.0\n"
     ]
    },
    {
     "ename": "KeyboardInterrupt",
     "evalue": "",
     "output_type": "error",
     "traceback": [
      "\u001b[0;31m---------------------------------------------------------------------------\u001b[0m",
      "\u001b[0;31mKeyboardInterrupt\u001b[0m                         Traceback (most recent call last)",
      "\u001b[0;32m/var/folders/dv/9p4r1chx4gd236cc70dc2zf00000gp/T/ipykernel_78696/1076712561.py\u001b[0m in \u001b[0;36m?\u001b[0;34m()\u001b[0m\n\u001b[1;32m      2\u001b[0m \u001b[0ms_time\u001b[0m \u001b[0;34m=\u001b[0m \u001b[0mtime\u001b[0m\u001b[0;34m.\u001b[0m\u001b[0mtime\u001b[0m\u001b[0;34m(\u001b[0m\u001b[0;34m)\u001b[0m\u001b[0;34m\u001b[0m\u001b[0;34m\u001b[0m\u001b[0m\n\u001b[1;32m      3\u001b[0m \u001b[0mindex\u001b[0m \u001b[0;34m=\u001b[0m \u001b[0;36m0\u001b[0m\u001b[0;34m\u001b[0m\u001b[0;34m\u001b[0m\u001b[0m\n\u001b[1;32m      4\u001b[0m \u001b[0;32mwhile\u001b[0m \u001b[0mindex\u001b[0m \u001b[0;34m<\u001b[0m \u001b[0;36m1000\u001b[0m\u001b[0;34m:\u001b[0m\u001b[0;34m\u001b[0m\u001b[0;34m\u001b[0m\u001b[0m\n\u001b[1;32m      5\u001b[0m     \u001b[0ma_time\u001b[0m \u001b[0;34m=\u001b[0m \u001b[0mint\u001b[0m\u001b[0;34m(\u001b[0m\u001b[0mtime\u001b[0m\u001b[0;34m.\u001b[0m\u001b[0mtime\u001b[0m\u001b[0;34m(\u001b[0m\u001b[0;34m)\u001b[0m \u001b[0;34m-\u001b[0m \u001b[0ms_time\u001b[0m\u001b[0;34m)\u001b[0m\u001b[0;34m\u001b[0m\u001b[0;34m\u001b[0m\u001b[0m\n\u001b[0;32m----> 6\u001b[0;31m     \u001b[0mjobs\u001b[0m \u001b[0;34m=\u001b[0m \u001b[0mdf\u001b[0m\u001b[0;34m[\u001b[0m\u001b[0mdf\u001b[0m\u001b[0;34m[\u001b[0m\u001b[0;34m\"arriving_time\"\u001b[0m\u001b[0;34m]\u001b[0m \u001b[0;34m==\u001b[0m \u001b[0ma_time\u001b[0m\u001b[0;34m]\u001b[0m\u001b[0;34m\u001b[0m\u001b[0;34m\u001b[0m\u001b[0m\n\u001b[0m\u001b[1;32m      7\u001b[0m     \u001b[0;32mif\u001b[0m \u001b[0mjobs\u001b[0m\u001b[0;34m.\u001b[0m\u001b[0mshape\u001b[0m\u001b[0;34m[\u001b[0m\u001b[0;36m0\u001b[0m\u001b[0;34m]\u001b[0m \u001b[0;34m!=\u001b[0m \u001b[0;36m0\u001b[0m\u001b[0;34m:\u001b[0m\u001b[0;34m\u001b[0m\u001b[0;34m\u001b[0m\u001b[0m\n\u001b[1;32m      8\u001b[0m         \u001b[0mindex\u001b[0m \u001b[0;34m+=\u001b[0m \u001b[0mjobs\u001b[0m\u001b[0;34m.\u001b[0m\u001b[0mshape\u001b[0m\u001b[0;34m[\u001b[0m\u001b[0;36m0\u001b[0m\u001b[0;34m]\u001b[0m\u001b[0;34m\u001b[0m\u001b[0;34m\u001b[0m\u001b[0m\n\u001b[1;32m      9\u001b[0m         \u001b[0;32mfor\u001b[0m \u001b[0mi\u001b[0m\u001b[0;34m,\u001b[0m \u001b[0mrow\u001b[0m \u001b[0;32min\u001b[0m \u001b[0mjobs\u001b[0m\u001b[0;34m.\u001b[0m\u001b[0miterrows\u001b[0m\u001b[0;34m(\u001b[0m\u001b[0;34m)\u001b[0m\u001b[0;34m:\u001b[0m\u001b[0;34m\u001b[0m\u001b[0;34m\u001b[0m\u001b[0m\n",
      "\u001b[0;32m~/Documents/Traveaux/Dynamique replication/env/lib/python3.13/site-packages/pandas/core/ops/common.py\u001b[0m in \u001b[0;36m?\u001b[0;34m(self, other)\u001b[0m\n\u001b[1;32m     72\u001b[0m                     \u001b[0;32mreturn\u001b[0m \u001b[0mNotImplemented\u001b[0m\u001b[0;34m\u001b[0m\u001b[0;34m\u001b[0m\u001b[0m\n\u001b[1;32m     73\u001b[0m \u001b[0;34m\u001b[0m\u001b[0m\n\u001b[1;32m     74\u001b[0m         \u001b[0mother\u001b[0m \u001b[0;34m=\u001b[0m \u001b[0mitem_from_zerodim\u001b[0m\u001b[0;34m(\u001b[0m\u001b[0mother\u001b[0m\u001b[0;34m)\u001b[0m\u001b[0;34m\u001b[0m\u001b[0;34m\u001b[0m\u001b[0m\n\u001b[1;32m     75\u001b[0m \u001b[0;34m\u001b[0m\u001b[0m\n\u001b[0;32m---> 76\u001b[0;31m         \u001b[0;32mreturn\u001b[0m \u001b[0mmethod\u001b[0m\u001b[0;34m(\u001b[0m\u001b[0mself\u001b[0m\u001b[0;34m,\u001b[0m \u001b[0mother\u001b[0m\u001b[0;34m)\u001b[0m\u001b[0;34m\u001b[0m\u001b[0;34m\u001b[0m\u001b[0m\n\u001b[0m",
      "\u001b[0;32m~/Documents/Traveaux/Dynamique replication/env/lib/python3.13/site-packages/pandas/core/arraylike.py\u001b[0m in \u001b[0;36m?\u001b[0;34m(self, other)\u001b[0m\n\u001b[1;32m     38\u001b[0m     \u001b[0;34m@\u001b[0m\u001b[0munpack_zerodim_and_defer\u001b[0m\u001b[0;34m(\u001b[0m\u001b[0;34m\"__eq__\"\u001b[0m\u001b[0;34m)\u001b[0m\u001b[0;34m\u001b[0m\u001b[0;34m\u001b[0m\u001b[0m\n\u001b[1;32m     39\u001b[0m     \u001b[0;32mdef\u001b[0m \u001b[0m__eq__\u001b[0m\u001b[0;34m(\u001b[0m\u001b[0mself\u001b[0m\u001b[0;34m,\u001b[0m \u001b[0mother\u001b[0m\u001b[0;34m)\u001b[0m\u001b[0;34m:\u001b[0m\u001b[0;34m\u001b[0m\u001b[0;34m\u001b[0m\u001b[0m\n\u001b[0;32m---> 40\u001b[0;31m         \u001b[0;32mreturn\u001b[0m \u001b[0mself\u001b[0m\u001b[0;34m.\u001b[0m\u001b[0m_cmp_method\u001b[0m\u001b[0;34m(\u001b[0m\u001b[0mother\u001b[0m\u001b[0;34m,\u001b[0m \u001b[0moperator\u001b[0m\u001b[0;34m.\u001b[0m\u001b[0meq\u001b[0m\u001b[0;34m)\u001b[0m\u001b[0;34m\u001b[0m\u001b[0;34m\u001b[0m\u001b[0m\n\u001b[0m",
      "\u001b[0;32m~/Documents/Traveaux/Dynamique replication/env/lib/python3.13/site-packages/pandas/core/series.py\u001b[0m in \u001b[0;36m?\u001b[0;34m(self, other, op)\u001b[0m\n\u001b[1;32m   6117\u001b[0m         \u001b[0mrvalues\u001b[0m \u001b[0;34m=\u001b[0m \u001b[0mextract_array\u001b[0m\u001b[0;34m(\u001b[0m\u001b[0mother\u001b[0m\u001b[0;34m,\u001b[0m \u001b[0mextract_numpy\u001b[0m\u001b[0;34m=\u001b[0m\u001b[0;32mTrue\u001b[0m\u001b[0;34m,\u001b[0m \u001b[0mextract_range\u001b[0m\u001b[0;34m=\u001b[0m\u001b[0;32mTrue\u001b[0m\u001b[0;34m)\u001b[0m\u001b[0;34m\u001b[0m\u001b[0;34m\u001b[0m\u001b[0m\n\u001b[1;32m   6118\u001b[0m \u001b[0;34m\u001b[0m\u001b[0m\n\u001b[1;32m   6119\u001b[0m         \u001b[0mres_values\u001b[0m \u001b[0;34m=\u001b[0m \u001b[0mops\u001b[0m\u001b[0;34m.\u001b[0m\u001b[0mcomparison_op\u001b[0m\u001b[0;34m(\u001b[0m\u001b[0mlvalues\u001b[0m\u001b[0;34m,\u001b[0m \u001b[0mrvalues\u001b[0m\u001b[0;34m,\u001b[0m \u001b[0mop\u001b[0m\u001b[0;34m)\u001b[0m\u001b[0;34m\u001b[0m\u001b[0;34m\u001b[0m\u001b[0m\n\u001b[1;32m   6120\u001b[0m \u001b[0;34m\u001b[0m\u001b[0m\n\u001b[0;32m-> 6121\u001b[0;31m         \u001b[0;32mreturn\u001b[0m \u001b[0mself\u001b[0m\u001b[0;34m.\u001b[0m\u001b[0m_construct_result\u001b[0m\u001b[0;34m(\u001b[0m\u001b[0mres_values\u001b[0m\u001b[0;34m,\u001b[0m \u001b[0mname\u001b[0m\u001b[0;34m=\u001b[0m\u001b[0mres_name\u001b[0m\u001b[0;34m)\u001b[0m\u001b[0;34m\u001b[0m\u001b[0;34m\u001b[0m\u001b[0m\n\u001b[0m",
      "\u001b[0;32m~/Documents/Traveaux/Dynamique replication/env/lib/python3.13/site-packages/pandas/core/series.py\u001b[0m in \u001b[0;36m?\u001b[0;34m(self, result, name)\u001b[0m\n\u001b[1;32m   6227\u001b[0m \u001b[0;34m\u001b[0m\u001b[0m\n\u001b[1;32m   6228\u001b[0m         \u001b[0;31m# TODO: result should always be ArrayLike, but this fails for some\u001b[0m\u001b[0;34m\u001b[0m\u001b[0;34m\u001b[0m\u001b[0m\n\u001b[1;32m   6229\u001b[0m         \u001b[0;31m#  JSONArray tests\u001b[0m\u001b[0;34m\u001b[0m\u001b[0;34m\u001b[0m\u001b[0m\n\u001b[1;32m   6230\u001b[0m         \u001b[0mdtype\u001b[0m \u001b[0;34m=\u001b[0m \u001b[0mgetattr\u001b[0m\u001b[0;34m(\u001b[0m\u001b[0mresult\u001b[0m\u001b[0;34m,\u001b[0m \u001b[0;34m\"dtype\"\u001b[0m\u001b[0;34m,\u001b[0m \u001b[0;32mNone\u001b[0m\u001b[0;34m)\u001b[0m\u001b[0;34m\u001b[0m\u001b[0;34m\u001b[0m\u001b[0m\n\u001b[0;32m-> 6231\u001b[0;31m         \u001b[0mout\u001b[0m \u001b[0;34m=\u001b[0m \u001b[0mself\u001b[0m\u001b[0;34m.\u001b[0m\u001b[0m_constructor\u001b[0m\u001b[0;34m(\u001b[0m\u001b[0mresult\u001b[0m\u001b[0;34m,\u001b[0m \u001b[0mindex\u001b[0m\u001b[0;34m=\u001b[0m\u001b[0mself\u001b[0m\u001b[0;34m.\u001b[0m\u001b[0mindex\u001b[0m\u001b[0;34m,\u001b[0m \u001b[0mdtype\u001b[0m\u001b[0;34m=\u001b[0m\u001b[0mdtype\u001b[0m\u001b[0;34m,\u001b[0m \u001b[0mcopy\u001b[0m\u001b[0;34m=\u001b[0m\u001b[0;32mFalse\u001b[0m\u001b[0;34m)\u001b[0m\u001b[0;34m\u001b[0m\u001b[0;34m\u001b[0m\u001b[0m\n\u001b[0m\u001b[1;32m   6232\u001b[0m         \u001b[0mout\u001b[0m \u001b[0;34m=\u001b[0m \u001b[0mout\u001b[0m\u001b[0;34m.\u001b[0m\u001b[0m__finalize__\u001b[0m\u001b[0;34m(\u001b[0m\u001b[0mself\u001b[0m\u001b[0;34m)\u001b[0m\u001b[0;34m\u001b[0m\u001b[0;34m\u001b[0m\u001b[0m\n\u001b[1;32m   6233\u001b[0m \u001b[0;34m\u001b[0m\u001b[0m\n\u001b[1;32m   6234\u001b[0m         \u001b[0;31m# Set the result's name after __finalize__ is called because __finalize__\u001b[0m\u001b[0;34m\u001b[0m\u001b[0;34m\u001b[0m\u001b[0m\n",
      "\u001b[0;32m~/Documents/Traveaux/Dynamique replication/env/lib/python3.13/site-packages/pandas/core/series.py\u001b[0m in \u001b[0;36m?\u001b[0;34m(self, data, index, dtype, name, copy, fastpath)\u001b[0m\n\u001b[1;32m    588\u001b[0m                 \u001b[0mdata\u001b[0m \u001b[0;34m=\u001b[0m \u001b[0mSingleBlockManager\u001b[0m\u001b[0;34m.\u001b[0m\u001b[0mfrom_array\u001b[0m\u001b[0;34m(\u001b[0m\u001b[0mdata\u001b[0m\u001b[0;34m,\u001b[0m \u001b[0mindex\u001b[0m\u001b[0;34m,\u001b[0m \u001b[0mrefs\u001b[0m\u001b[0;34m=\u001b[0m\u001b[0mrefs\u001b[0m\u001b[0;34m)\u001b[0m\u001b[0;34m\u001b[0m\u001b[0;34m\u001b[0m\u001b[0m\n\u001b[1;32m    589\u001b[0m             \u001b[0;32melif\u001b[0m \u001b[0mmanager\u001b[0m \u001b[0;34m==\u001b[0m \u001b[0;34m\"array\"\u001b[0m\u001b[0;34m:\u001b[0m\u001b[0;34m\u001b[0m\u001b[0;34m\u001b[0m\u001b[0m\n\u001b[1;32m    590\u001b[0m                 \u001b[0mdata\u001b[0m \u001b[0;34m=\u001b[0m \u001b[0mSingleArrayManager\u001b[0m\u001b[0;34m.\u001b[0m\u001b[0mfrom_array\u001b[0m\u001b[0;34m(\u001b[0m\u001b[0mdata\u001b[0m\u001b[0;34m,\u001b[0m \u001b[0mindex\u001b[0m\u001b[0;34m)\u001b[0m\u001b[0;34m\u001b[0m\u001b[0;34m\u001b[0m\u001b[0m\n\u001b[1;32m    591\u001b[0m \u001b[0;34m\u001b[0m\u001b[0m\n\u001b[0;32m--> 592\u001b[0;31m         \u001b[0mNDFrame\u001b[0m\u001b[0;34m.\u001b[0m\u001b[0m__init__\u001b[0m\u001b[0;34m(\u001b[0m\u001b[0mself\u001b[0m\u001b[0;34m,\u001b[0m \u001b[0mdata\u001b[0m\u001b[0;34m)\u001b[0m\u001b[0;34m\u001b[0m\u001b[0;34m\u001b[0m\u001b[0m\n\u001b[0m\u001b[1;32m    593\u001b[0m         \u001b[0mself\u001b[0m\u001b[0;34m.\u001b[0m\u001b[0mname\u001b[0m \u001b[0;34m=\u001b[0m \u001b[0mname\u001b[0m\u001b[0;34m\u001b[0m\u001b[0;34m\u001b[0m\u001b[0m\n\u001b[1;32m    594\u001b[0m         \u001b[0mself\u001b[0m\u001b[0;34m.\u001b[0m\u001b[0m_set_axis\u001b[0m\u001b[0;34m(\u001b[0m\u001b[0;36m0\u001b[0m\u001b[0;34m,\u001b[0m \u001b[0mindex\u001b[0m\u001b[0;34m)\u001b[0m\u001b[0;34m\u001b[0m\u001b[0;34m\u001b[0m\u001b[0m\n\u001b[1;32m    595\u001b[0m \u001b[0;34m\u001b[0m\u001b[0m\n",
      "\u001b[0;32m~/Documents/Traveaux/Dynamique replication/env/lib/python3.13/site-packages/pandas/core/generic.py\u001b[0m in \u001b[0;36m?\u001b[0;34m(self, data)\u001b[0m\n\u001b[1;32m    279\u001b[0m         \u001b[0mobject\u001b[0m\u001b[0;34m.\u001b[0m\u001b[0m__setattr__\u001b[0m\u001b[0;34m(\u001b[0m\u001b[0mself\u001b[0m\u001b[0;34m,\u001b[0m \u001b[0;34m\"_is_copy\"\u001b[0m\u001b[0;34m,\u001b[0m \u001b[0;32mNone\u001b[0m\u001b[0;34m)\u001b[0m\u001b[0;34m\u001b[0m\u001b[0;34m\u001b[0m\u001b[0m\n\u001b[1;32m    280\u001b[0m         \u001b[0mobject\u001b[0m\u001b[0;34m.\u001b[0m\u001b[0m__setattr__\u001b[0m\u001b[0;34m(\u001b[0m\u001b[0mself\u001b[0m\u001b[0;34m,\u001b[0m \u001b[0;34m\"_mgr\"\u001b[0m\u001b[0;34m,\u001b[0m \u001b[0mdata\u001b[0m\u001b[0;34m)\u001b[0m\u001b[0;34m\u001b[0m\u001b[0;34m\u001b[0m\u001b[0m\n\u001b[1;32m    281\u001b[0m         \u001b[0mobject\u001b[0m\u001b[0;34m.\u001b[0m\u001b[0m__setattr__\u001b[0m\u001b[0;34m(\u001b[0m\u001b[0mself\u001b[0m\u001b[0;34m,\u001b[0m \u001b[0;34m\"_item_cache\"\u001b[0m\u001b[0;34m,\u001b[0m \u001b[0;34m{\u001b[0m\u001b[0;34m}\u001b[0m\u001b[0;34m)\u001b[0m\u001b[0;34m\u001b[0m\u001b[0;34m\u001b[0m\u001b[0m\n\u001b[1;32m    282\u001b[0m         \u001b[0mobject\u001b[0m\u001b[0;34m.\u001b[0m\u001b[0m__setattr__\u001b[0m\u001b[0;34m(\u001b[0m\u001b[0mself\u001b[0m\u001b[0;34m,\u001b[0m \u001b[0;34m\"_attrs\"\u001b[0m\u001b[0;34m,\u001b[0m \u001b[0;34m{\u001b[0m\u001b[0;34m}\u001b[0m\u001b[0;34m)\u001b[0m\u001b[0;34m\u001b[0m\u001b[0;34m\u001b[0m\u001b[0m\n\u001b[0;32m--> 283\u001b[0;31m         \u001b[0mobject\u001b[0m\u001b[0;34m.\u001b[0m\u001b[0m__setattr__\u001b[0m\u001b[0;34m(\u001b[0m\u001b[0mself\u001b[0m\u001b[0;34m,\u001b[0m \u001b[0;34m\"_flags\"\u001b[0m\u001b[0;34m,\u001b[0m \u001b[0mFlags\u001b[0m\u001b[0;34m(\u001b[0m\u001b[0mself\u001b[0m\u001b[0;34m,\u001b[0m \u001b[0mallows_duplicate_labels\u001b[0m\u001b[0;34m=\u001b[0m\u001b[0;32mTrue\u001b[0m\u001b[0;34m)\u001b[0m\u001b[0;34m)\u001b[0m\u001b[0;34m\u001b[0m\u001b[0;34m\u001b[0m\u001b[0m\n\u001b[0m",
      "\u001b[0;31mKeyboardInterrupt\u001b[0m: "
     ]
    }
   ],
   "source": [
    "import time\n",
    "s_time = time.time()\n",
    "index = 0\n",
    "while index < 1000:\n",
    "    a_time = int(time.time() - s_time)\n",
    "    jobs = df[df[\"arriving_time\"] == a_time]\n",
    "    if jobs.shape[0] != 0:\n",
    "        index += jobs.shape[0]\n",
    "        for i, row in jobs.iterrows():\n",
    "            print(f\"job {row['job_id']} arriving at {a_time} added at time {row['arriving_time']}\")\n",
    "    \n",
    "    df = df[df[\"arriving_time\"] != a_time]"
   ]
  },
  {
   "cell_type": "code",
   "execution_count": null,
   "metadata": {},
   "outputs": [],
   "source": []
  }
 ],
 "metadata": {
  "kernelspec": {
   "display_name": "env",
   "language": "python",
   "name": "python3"
  },
  "language_info": {
   "codemirror_mode": {
    "name": "ipython",
    "version": 3
   },
   "file_extension": ".py",
   "mimetype": "text/x-python",
   "name": "python",
   "nbconvert_exporter": "python",
   "pygments_lexer": "ipython3",
   "version": "3.13.0"
  }
 },
 "nbformat": 4,
 "nbformat_minor": 2
}
